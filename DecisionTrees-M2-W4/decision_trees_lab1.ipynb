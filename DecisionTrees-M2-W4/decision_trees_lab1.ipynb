{
 "cells": [
  {
   "cell_type": "markdown",
   "metadata": {},
   "source": [
    "## Decision Trees"
   ]
  },
  {
   "cell_type": "code",
   "execution_count": null,
   "metadata": {},
   "outputs": [],
   "source": [
    "import numpy as np"
   ]
  },
  {
   "cell_type": "markdown",
   "metadata": {},
   "source": [
    "#### Prepare Data\n",
    "\n",
    "We will use one-hot encoding to encode the categorical features. They will be as follows:\n",
    "\n",
    "Ear Shape: Pointy = 1, Floppy = 0\n",
    "\n",
    "Face Shape: Round = 1, Not Round = 0\n",
    "\n",
    "Whiskers: Present = 1, Absent = 0\n",
    "\n",
    "Therefore, we have two sets:\n",
    "\n",
    "X_train: for each example, contains 3 features:\n",
    "\n",
    "      - Ear Shape (1 if pointy, 0 otherwise)\n",
    "      - Face Shape (1 if round, 0 otherwise)\n",
    "      - Whiskers (1 if present, 0 otherwise)\n",
    "y_train: whether the animal is a cat\n",
    "\n",
    "      - 1 if the animal is a cat\n",
    "      - 0 otherwise"
   ]
  },
  {
   "cell_type": "code",
   "execution_count": 8,
   "metadata": {},
   "outputs": [],
   "source": [
    "# Each row is a training example, each column is a feature  [X1, X2, X3]\n",
    "# X = (Ear shape, Face shape, Whiskers) \n",
    "# y = Cat (1) or Dog (0)\n",
    "X_train = np.array(\n",
    "    [\n",
    "        [1, 1, 1],\n",
    "        [0, 0, 1],\n",
    "        [0, 1, 0],\n",
    "        [1, 0, 1],\n",
    "        [1, 1, 1],\n",
    "        [1, 1, 0],\n",
    "        [0, 0, 0],\n",
    "        [1, 1, 0],\n",
    "        [0, 1, 0],\n",
    "        [0, 1, 0]\n",
    "    ]\n",
    ")\n",
    "\n",
    "y_train = np.array([1, 1, 0, 0, 1, 1, 0, 1, 0, 0])"
   ]
  },
  {
   "cell_type": "markdown",
   "metadata": {},
   "source": [
    "#### Helper functions"
   ]
  },
  {
   "cell_type": "code",
   "execution_count": 9,
   "metadata": {},
   "outputs": [
    {
     "data": {
      "text/plain": [
       "([0, 3, 4, 5, 7], [1, 2, 6, 8, 9])"
      ]
     },
     "execution_count": 9,
     "metadata": {},
     "output_type": "execute_result"
    }
   ],
   "source": [
    "def entropy(p):\n",
    "    if p == 0 or p ==1:\n",
    "        return 0\n",
    "    else:\n",
    "        return  -p * np.log2(p) - (1 - p) * np.log2(1 - p)\n",
    "\n",
    "def split_indices(X, index_feature):\n",
    "    \"\"\"Given a dataset and a index feature, return two lists for the two split nodes, the left node has the animals that have \n",
    "    that feature = 1 and the right node those that have the feature = 0 \n",
    "    index feature = 0 => ear shape\n",
    "    index feature = 1 => face shape\n",
    "    index feature = 2 => whiskers\n",
    "    \"\"\"\n",
    "    left_subtree_indices = []\n",
    "    right_subtree_indices = []\n",
    "    for i, x in enumerate(X):\n",
    "        if x[index_feature] == 1:\n",
    "            left_subtree_indices.append(i)\n",
    "        else:\n",
    "            right_subtree_indices.append(i)\n",
    "    return left_subtree_indices, right_subtree_indices\n",
    "\n",
    "split_indices(X_train, 0)"
   ]
  },
  {
   "cell_type": "code",
   "execution_count": 20,
   "metadata": {},
   "outputs": [
    {
     "name": "stdout",
     "output_type": "stream",
     "text": [
      "0.7219280948873623\n"
     ]
    }
   ],
   "source": [
    "def weighted_entropy(X, y, left_subtree_indices, right_subtree_indices):\n",
    "    \"\"\"\n",
    "    This function takes the splitted dataset, the indices we chose to split and returns the weighted entropy.\n",
    "    \"\"\"\n",
    "    m = len(X)\n",
    "    class_1_left = np.where(y[left_subtree_indices] == 1)\n",
    "    class_1_right = np.where(y[right_subtree_indices] == 1)\n",
    "\n",
    "    prob_left = len(class_1_left[0]) / len(left_subtree_indices)\n",
    "    prob_right = len(class_1_right[0]) / len(right_subtree_indices)\n",
    "    \n",
    "    entropy_left = entropy(prob_left)\n",
    "    entropy_right = entropy(prob_right)\n",
    "\n",
    "    weight_left = len(left_subtree_indices) / m\n",
    "    weight_right = len(right_subtree_indices) / m\n",
    "\n",
    "    weighted_entropy = weight_left * entropy_left + weight_right * entropy_right\n",
    "    return weighted_entropy\n",
    "\n",
    "left_indices, right_indices = split_indices(X_train, 0)\n",
    "print(weighted_entropy(X_train, y_train, left_indices, right_indices))\n"
   ]
  },
  {
   "cell_type": "code",
   "execution_count": 33,
   "metadata": {},
   "outputs": [
    {
     "data": {
      "text/plain": [
       "0.12451124978365313"
      ]
     },
     "execution_count": 33,
     "metadata": {},
     "output_type": "execute_result"
    }
   ],
   "source": [
    "def get_information_gain(X, y, left_indices, right_indices):\n",
    "    \"\"\"\n",
    "    This function takes the splitted dataset, the indices we chose to split and returns the information gain.\n",
    "    \"\"\"\n",
    "    m = len(X)\n",
    "    occurrences_parent = np.where(y == 1)\n",
    "    prob_parent = len(occurrences_parent[0]) / m\n",
    "    entropy_parent = entropy(prob_parent)\n",
    "    weighted_entropy_children = weighted_entropy(X, y, left_indices, right_indices)\n",
    "    information_gain = entropy_parent - weighted_entropy_children\n",
    "    return information_gain\n",
    "\n",
    "get_information_gain(X_train, y_train, left_indices, right_indices)"
   ]
  },
  {
   "cell_type": "code",
   "execution_count": 34,
   "metadata": {},
   "outputs": [
    {
     "name": "stdout",
     "output_type": "stream",
     "text": [
      "Information gain for Ear shape: 0.2780719051126377\n",
      "Information gain for Face shape: 0.034851554559677034\n",
      "Information gain for Whiskers: 0.12451124978365313\n"
     ]
    }
   ],
   "source": [
    "for i, feature_name in enumerate(['Ear shape', 'Face shape', 'Whiskers']):\n",
    "    left_indices, right_indices = split_indices(X_train, i)\n",
    "    print(f'Information gain for {feature_name}: {get_information_gain(X_train, y_train, left_indices, right_indices)}')"
   ]
  },
  {
   "cell_type": "code",
   "execution_count": 41,
   "metadata": {},
   "outputs": [],
   "source": [
    "# def print_decision_tree_recursive(X, y, tree_indices):\n",
    "#     \"\"\"\n",
    "#     This function builds a decision tree recursively.\n",
    "#     \"\"\"\n",
    "#     m, n = X.shape\n",
    "#     # If all the data belongs to the same class, dont split, just return the indices as-is\n",
    "#     if len(np.unique(y)) == 1: \n",
    "#         print(f'Leaf node with class: {y[tree_indices[0]]}')\n",
    "#         return \n",
    "#     # If there are no features left, return\n",
    "#     if len(tree_indices) == 0 or len(tree_indices) == 1:\n",
    "#         print(f'Leaf node with class: {y[tree_indices[0]]}')\n",
    "#         return \n",
    "    \n",
    "    \n",
    "#     # Find the best feature to split on\n",
    "#     max_information_gain = 0\n",
    "#     best_split_feature_name = None\n",
    "#     best_split_indices = None\n",
    "#     for i, feature_name in enumerate(['Ear shape', 'Face shape', 'Whiskers']):\n",
    "#         left_indices, right_indices = split_indices(X, i)\n",
    "#         if len(left_indices) == 0 or len(right_indices) == 0:\n",
    "#             continue\n",
    "#         information_gain = get_information_gain(X, y, left_indices, right_indices)\n",
    "#         if information_gain > max_information_gain:\n",
    "#             max_information_gain = information_gain\n",
    "#             best_split_indices = (left_indices, right_indices)\n",
    "#             best_split_feature_name = feature_name\n",
    "#     if best_split_indices is None:\n",
    "#         return \n",
    "#     print(f'Best split indices: {best_split_indices} at feature - {best_split_feature_name}')\n",
    "#     print_decision_tree_recursive(X, y, best_split_indices[0])\n",
    "#     print_decision_tree_recursive(X, y, best_split_indices[1])\n",
    "\n",
    "# print_decision_tree_recursive(X_train, y_train, list(range(len(X_train))))\n",
    "\n",
    "\n",
    "    "
   ]
  },
  {
   "cell_type": "code",
   "execution_count": null,
   "metadata": {},
   "outputs": [],
   "source": []
  }
 ],
 "metadata": {
  "kernelspec": {
   "display_name": "Python 3 (ipykernel)",
   "language": "python",
   "name": "python3"
  },
  "language_info": {
   "codemirror_mode": {
    "name": "ipython",
    "version": 3
   },
   "file_extension": ".py",
   "mimetype": "text/x-python",
   "name": "python",
   "nbconvert_exporter": "python",
   "pygments_lexer": "ipython3",
   "version": "3.12.4"
  }
 },
 "nbformat": 4,
 "nbformat_minor": 2
}
