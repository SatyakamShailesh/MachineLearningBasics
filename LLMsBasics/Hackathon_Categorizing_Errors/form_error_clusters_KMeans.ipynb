{
 "cells": [
  {
   "cell_type": "code",
   "execution_count": 1,
   "metadata": {},
   "outputs": [],
   "source": [
    "import pandas as pd\n",
    "from sklearn.cluster import KMeans\n",
    "from sklearn.preprocessing import LabelEncoder\n",
    "from sklearn.feature_extraction.text import TfidfVectorizer\n",
    "from sklearn.compose import ColumnTransformer\n",
    "from sklearn.pipeline import Pipeline\n",
    "from sklearn.preprocessing import StandardScaler\n",
    "from sklearn.impute import SimpleImputer"
   ]
  },
  {
   "cell_type": "code",
   "execution_count": 2,
   "metadata": {},
   "outputs": [],
   "source": [
    "# Load the Excel file into a DataFrame\n",
    "df = pd.read_excel('Filtered_sandbox_errors.xlsx')\n",
    "\n",
    "# Function to get first two lines from the 'Error' column\n",
    "def get_first_few_lines(text):\n",
    "    # Split the text by line breaks and return the first two lines\n",
    "    lines = text.split('\\\\\\\\n')\n",
    "    return '\\n'.join(lines[:2])\n",
    "\n",
    "#print(f\"First three lines of the first row: {get_first_few_lines(df['Error'][0])}\")\n",
    "\n",
    "# Apply the function to the 'Error' column\n",
    "df['Error'] = df['Error'].apply(get_first_few_lines)\n",
    "\n",
    "# Save the modified DataFrame back to Excel\n",
    "df.to_excel('modified_file_1.xlsx', index=False)\n",
    "\n"
   ]
  },
  {
   "cell_type": "code",
   "execution_count": null,
   "metadata": {},
   "outputs": [
    {
     "name": "stdout",
     "output_type": "stream",
     "text": [
      "   account id                       module type  \\\n",
      "0      708664  WorkspacePermissionConfiguration   \n",
      "1      708687  WorkspacePermissionConfiguration   \n",
      "2      708774  WorkspacePermissionConfiguration   \n",
      "3      708664                 UserConfiguration   \n",
      "4      708774  WorkspacePermissionConfiguration   \n",
      "5      708664  WorkspacePermissionConfiguration   \n",
      "6      708664  WorkspacePermissionConfiguration   \n",
      "7      708774  WorkspacePermissionConfiguration   \n",
      "8      708774  WorkspacePermissionConfiguration   \n",
      "9      708687  WorkspacePermissionConfiguration   \n",
      "\n",
      "                                               Error  Cluster  \n",
      "0  \"{\\\"import_exceptions\\\":\\\"Import config set it...        0  \n",
      "1  \"{\\\"import_exceptions\\\":\\\"Import config set it...        0  \n",
      "2  \"{\\\"import_exceptions\\\":\\\"Import config set it...        0  \n",
      "3  \"{\\\"import_exceptions\\\":\\\"Import config set it...        2  \n",
      "4  \"{\\\"import_exceptions\\\":\\\"Import config set it...        0  \n",
      "5  \"{\\\"import_exceptions\\\":\\\"Import config set it...        0  \n",
      "6  \"{\\\"import_exceptions\\\":\\\"Import config set it...        0  \n",
      "7  \"{\\\"import_exceptions\\\":\\\"Import config set it...        0  \n",
      "8  \"{\\\"import_exceptions\\\":\\\"Import config set it...        0  \n",
      "9  \"{\\\"import_exceptions\\\":\\\"Import config set it...        0  \n"
     ]
    }
   ],
   "source": [
    "# label_encoder = LabelEncoder()\n",
    "# df['module_type_encoded'] = label_encoder.fit_transform(df['module type'])\n",
    "\n",
    "tfid_vectorizer = TfidfVectorizer()\n",
    "\n",
    "kmeans = KMeans(n_clusters=5, random_state=42)\n",
    "\n",
    "pipeline = Pipeline(steps=[\n",
    "    ('features', ColumnTransformer(\n",
    "        transformers=[\n",
    "            # ('account_id', 'passthrough', ['account id']),  # Leave the 'account id' as is\n",
    "            # ('module_type', 'passthrough', ['module_type_encoded']),  # Leave the encoded 'module_type' as is\n",
    "            ('error', tfid_vectorizer, 'Error')  # Transform 'Error' column using TF-IDF\n",
    "        ])),\n",
    "    ('scaler', StandardScaler(with_mean=False)),  # Optional: Scale the features to normalize the variance\n",
    "    ('kmeans', kmeans)  # Apply KMeans clustering\n",
    "])\n",
    "\n",
    "df['Cluster'] = pipeline.fit_predict(df)\n",
    "\n",
    "# Step 7: View the result\n",
    "print(df[['account id', 'module type', 'Error', 'Cluster']].iloc[:10])\n",
    "\n",
    "#Uncomment if you want to save the modified DataFrame back to Excel\n",
    "#df.to_excel('modified_file_2.xlsx', index=False)\n"
   ]
  },
  {
   "cell_type": "markdown",
   "metadata": {},
   "source": [
    "### Check Silhoutte score to see how well the model did \n",
    "Ranges from -1 to 1, (1 being best)"
   ]
  },
  {
   "cell_type": "code",
   "execution_count": 15,
   "metadata": {},
   "outputs": [
    {
     "name": "stdout",
     "output_type": "stream",
     "text": [
      "Best Silhouette Score: 0.993055554319392 for k=6\n"
     ]
    },
    {
     "name": "stderr",
     "output_type": "stream",
     "text": [
      "/opt/anaconda3/lib/python3.12/site-packages/sklearn/base.py:1474: ConvergenceWarning: Number of distinct clusters (6) found smaller than n_clusters (7). Possibly due to duplicate points in X.\n",
      "  return fit_method(estimator, *args, **kwargs)\n",
      "/opt/anaconda3/lib/python3.12/site-packages/sklearn/base.py:1474: ConvergenceWarning: Number of distinct clusters (6) found smaller than n_clusters (8). Possibly due to duplicate points in X.\n",
      "  return fit_method(estimator, *args, **kwargs)\n",
      "/opt/anaconda3/lib/python3.12/site-packages/sklearn/base.py:1474: ConvergenceWarning: Number of distinct clusters (6) found smaller than n_clusters (9). Possibly due to duplicate points in X.\n",
      "  return fit_method(estimator, *args, **kwargs)\n",
      "/opt/anaconda3/lib/python3.12/site-packages/sklearn/base.py:1474: ConvergenceWarning: Number of distinct clusters (6) found smaller than n_clusters (10). Possibly due to duplicate points in X.\n",
      "  return fit_method(estimator, *args, **kwargs)\n"
     ]
    }
   ],
   "source": [
    "from sklearn.metrics import silhouette_score\n",
    "\n",
    "# Transform the input data without applying the clustering step\n",
    "data_transformed = pipeline.named_steps['features'].transform(df)\n",
    "\n",
    "ideal_k = 2\n",
    "max_silhouette_score = -1\n",
    "\n",
    "for k in range(2, 11):\n",
    "    kmeans = KMeans(n_clusters=k, random_state=42)\n",
    "    kmeans.fit(data_transformed)\n",
    "    silhouette_score_k = silhouette_score(data_transformed, kmeans.labels_)\n",
    "    if silhouette_score_k > max_silhouette_score:\n",
    "        ideal_k = k\n",
    "        max_silhouette_score = silhouette_score_k\n",
    "    \n",
    "print(f'Best Silhouette Score: {max_silhouette_score} for k={ideal_k}')"
   ]
  },
  {
   "cell_type": "markdown",
   "metadata": {},
   "source": [
    "### Elbow method"
   ]
  },
  {
   "cell_type": "code",
   "execution_count": 14,
   "metadata": {},
   "outputs": [
    {
     "name": "stderr",
     "output_type": "stream",
     "text": [
      "/opt/anaconda3/lib/python3.12/site-packages/sklearn/base.py:1474: ConvergenceWarning: Number of distinct clusters (6) found smaller than n_clusters (7). Possibly due to duplicate points in X.\n",
      "  return fit_method(estimator, *args, **kwargs)\n",
      "/opt/anaconda3/lib/python3.12/site-packages/sklearn/base.py:1474: ConvergenceWarning: Number of distinct clusters (6) found smaller than n_clusters (8). Possibly due to duplicate points in X.\n",
      "  return fit_method(estimator, *args, **kwargs)\n",
      "/opt/anaconda3/lib/python3.12/site-packages/sklearn/base.py:1474: ConvergenceWarning: Number of distinct clusters (6) found smaller than n_clusters (9). Possibly due to duplicate points in X.\n",
      "  return fit_method(estimator, *args, **kwargs)\n",
      "/opt/anaconda3/lib/python3.12/site-packages/sklearn/base.py:1474: ConvergenceWarning: Number of distinct clusters (6) found smaller than n_clusters (10). Possibly due to duplicate points in X.\n",
      "  return fit_method(estimator, *args, **kwargs)\n"
     ]
    },
    {
     "data": {
      "text/plain": [
       "[<matplotlib.lines.Line2D at 0x161870710>]"
      ]
     },
     "execution_count": 14,
     "metadata": {},
     "output_type": "execute_result"
    },
    {
     "data": {
      "image/png": "[encoded data removed]",
      "text/plain": [
       "<Figure size 640x480 with 1 Axes>"
      ]
     },
     "metadata": {},
     "output_type": "display_data"
    }
   ],
   "source": [
    "import matplotlib.pyplot as plt\n",
    "\n",
    "inertia = []\n",
    "\n",
    "for k in range(1, 11):\n",
    "    kmeans = KMeans(n_clusters=k, random_state=42)\n",
    "    kmeans.fit(data_transformed)\n",
    "    inertia.append(kmeans.inertia_)\n",
    "\n",
    "plt.plot(range(1, 11), inertia, marker='o')"
   ]
  },
  {
   "cell_type": "code",
   "execution_count": null,
   "metadata": {},
   "outputs": [],
   "source": []
  }
 ],
 "metadata": {
  "kernelspec": {
   "display_name": "Python 3 (ipykernel)",
   "language": "python",
   "name": "python3"
  },
  "language_info": {
   "codemirror_mode": {
    "name": "ipython",
    "version": 3
   },
   "file_extension": ".py",
   "mimetype": "text/x-python",
   "name": "python",
   "nbconvert_exporter": "python",
   "pygments_lexer": "ipython3",
   "version": "3.12.4"
  }
 },
 "nbformat": 4,
 "nbformat_minor": 2
}
