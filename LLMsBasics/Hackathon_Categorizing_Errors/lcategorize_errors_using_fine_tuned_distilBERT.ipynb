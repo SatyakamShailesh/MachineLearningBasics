{
 "cells": [
  {
   "cell_type": "code",
   "execution_count": 38,
   "metadata": {},
   "outputs": [],
   "source": [
    "import pandas as pd\n",
    "from sklearn.model_selection import train_test_split\n",
    "from transformers import pipeline\n",
    "from datasets import Dataset\n",
    "from sklearn.calibration import LabelEncoder\n",
    "from transformers import TrainingArguments, Trainer"
   ]
  },
  {
   "cell_type": "code",
   "execution_count": null,
   "metadata": {},
   "outputs": [
    {
     "name": "stdout",
     "output_type": "stream",
     "text": [
      "(21, 3)\n"
     ]
    },
    {
     "name": "stderr",
     "output_type": "stream",
     "text": [
      "/var/folders/yv/b8k8yx4d7kjggqgzy_9_2dwc0000gp/T/ipykernel_60156/1880682158.py:10: SettingWithCopyWarning: \n",
      "A value is trying to be set on a copy of a slice from a DataFrame.\n",
      "Try using .loc[row_indexer,col_indexer] = value instead\n",
      "\n",
      "See the caveats in the documentation: https://pandas.pydata.org/pandas-docs/stable/user_guide/indexing.html#returning-a-view-versus-a-copy\n",
      "  df_labeled['text'] = df_labeled['module type'] + '-' + df_labeled['Error']\n",
      "/var/folders/yv/b8k8yx4d7kjggqgzy_9_2dwc0000gp/T/ipykernel_60156/1880682158.py:19: SettingWithCopyWarning: \n",
      "A value is trying to be set on a copy of a slice from a DataFrame.\n",
      "Try using .loc[row_indexer,col_indexer] = value instead\n",
      "\n",
      "See the caveats in the documentation: https://pandas.pydata.org/pandas-docs/stable/user_guide/indexing.html#returning-a-view-versus-a-copy\n",
      "  df_labeled['encoded_labels'] = label_encoder.fit_transform(df_labeled['error_category'])\n"
     ]
    }
   ],
   "source": [
    "from sklearn.calibration import LabelEncoder\n",
    "\n",
    "df = pd.read_excel('filtered_labeled_sandbox_errors.xlsx')\n",
    "\n",
    "# Filter the data to keep only rows where 'error_category' is not null\n",
    "df_labeled = df.dropna(subset=['error_category'])\n",
    "\n",
    "# Combine 'module type' and 'Error' columns into a single 'text' column\n",
    "df_labeled['text'] = df_labeled['module type'] + '-' + df_labeled['Error']\n",
    "\n",
    "# Convert the pandas DataFrame to Hugging Face Dataset\n",
    "train_dataset = Dataset.from_pandas(df_labeled[['text', 'error_category']])\n",
    "\n",
    "print(train_dataset.shape)\n",
    "\n",
    "# Encode the labels to integers if they are strings\n",
    "label_encoder = LabelEncoder()\n",
    "df_labeled['encoded_labels'] = label_encoder.fit_transform(df_labeled['error_category'])\n",
    "\n",
    "# Update the dataset with encoded labels\n",
    "train_dataset = Dataset.from_pandas(df_labeled[['text', 'encoded_labels']])"
   ]
  },
  {
   "cell_type": "code",
   "execution_count": 40,
   "metadata": {},
   "outputs": [
    {
     "data": {
      "application/vnd.jupyter.widget-view+json": {
       "model_id": "7792734884e1477ea1a2c67ec4ac74fe",
       "version_major": 2,
       "version_minor": 0
      },
      "text/plain": [
       "Map:   0%|          | 0/21 [00:00<?, ? examples/s]"
      ]
     },
     "metadata": {},
     "output_type": "display_data"
    }
   ],
   "source": [
    "from transformers import DistilBertTokenizer\n",
    "\n",
    "# Load the tokenizer for DistilBERT\n",
    "tokenizer = DistilBertTokenizer.from_pretrained(\"distilbert-base-uncased\")\n",
    "\n",
    "# Tokenize the data\n",
    "def tokenize_function(examples):\n",
    "    return tokenizer(examples['text'], padding=\"max_length\", truncation=True)\n",
    "\n",
    "train_dataset = train_dataset.map(tokenize_function, batched=True)\n",
    "\n",
    "# Remove the original 'text' column since it's no longer needed after tokenization\n",
    "train_dataset = train_dataset.remove_columns([\"text\"])\n",
    "train_dataset = train_dataset.rename_column(\"encoded_labels\", \"labels\")\n",
    "\n",
    "# Set the format for PyTorch, so we can use it for training\n",
    "train_dataset.set_format(type=\"torch\", columns=[\"input_ids\", \"attention_mask\", \"labels\"])"
   ]
  },
  {
   "cell_type": "code",
   "execution_count": 41,
   "metadata": {},
   "outputs": [
    {
     "name": "stderr",
     "output_type": "stream",
     "text": [
      "Some weights of DistilBertForSequenceClassification were not initialized from the model checkpoint at distilbert-base-uncased and are newly initialized: ['classifier.bias', 'classifier.weight', 'pre_classifier.bias', 'pre_classifier.weight']\n",
      "You should probably TRAIN this model on a down-stream task to be able to use it for predictions and inference.\n"
     ]
    }
   ],
   "source": [
    "from transformers import DistilBertForSequenceClassification\n",
    "\n",
    "# Load the pre-trained DistilBERT model with a classification head\n",
    "model = DistilBertForSequenceClassification.from_pretrained(\n",
    "    \"distilbert-base-uncased\", num_labels=len(label_encoder.classes_)\n",
    ")"
   ]
  },
  {
   "cell_type": "code",
   "execution_count": 42,
   "metadata": {},
   "outputs": [
    {
     "name": "stderr",
     "output_type": "stream",
     "text": [
      "/opt/anaconda3/lib/python3.12/site-packages/transformers/training_args.py:1590: FutureWarning: using `no_cuda` is deprecated and will be removed in version 5.0 of 🤗 Transformers. Use `use_cpu` instead\n",
      "  warnings.warn(\n",
      "/var/folders/yv/b8k8yx4d7kjggqgzy_9_2dwc0000gp/T/ipykernel_60156/4199073441.py:13: FutureWarning: `tokenizer` is deprecated and will be removed in version 5.0.0 for `Trainer.__init__`. Use `processing_class` instead.\n",
      "  trainer = Trainer(\n"
     ]
    }
   ],
   "source": [
    "\n",
    "training_args = TrainingArguments(\n",
    "    output_dir=\"./results\",\n",
    "    num_train_epochs=3,\n",
    "    per_device_train_batch_size=8,\n",
    "    per_device_eval_batch_size=8,\n",
    "    warmup_steps=500,\n",
    "    weight_decay=0.01,\n",
    "    logging_dir=\"./logs\",\n",
    "    no_cuda=True  # Ensure CUDA is not causing issues\n",
    ")\n",
    "\n",
    "# Initialize the Trainer\n",
    "trainer = Trainer(\n",
    "    model=model,                         # The model to train\n",
    "    args=training_args,                  # Training arguments\n",
    "    train_dataset=train_dataset,         # The training dataset (entire labeled dataset)\n",
    "    tokenizer=tokenizer,                 # The tokenizer\n",
    ")"
   ]
  },
  {
   "cell_type": "markdown",
   "metadata": {},
   "source": [
    "#### Train the model "
   ]
  },
  {
   "cell_type": "code",
   "execution_count": 43,
   "metadata": {},
   "outputs": [
    {
     "data": {
      "text/html": [
       "\n",
       "    <div>\n",
       "      \n",
       "      <progress value='9' max='9' style='width:300px; height:20px; vertical-align: middle;'></progress>\n",
       "      [9/9 00:23, Epoch 3/3]\n",
       "    </div>\n",
       "    <table border=\"1\" class=\"dataframe\">\n",
       "  <thead>\n",
       " <tr style=\"text-align: left;\">\n",
       "      <th>Step</th>\n",
       "      <th>Training Loss</th>\n",
       "    </tr>\n",
       "  </thead>\n",
       "  <tbody>\n",
       "  </tbody>\n",
       "</table><p>"
      ],
      "text/plain": [
       "<IPython.core.display.HTML object>"
      ]
     },
     "metadata": {},
     "output_type": "display_data"
    },
    {
     "data": {
      "text/plain": [
       "TrainOutput(global_step=9, training_loss=1.4071091545952692, metrics={'train_runtime': 26.9505, 'train_samples_per_second': 2.338, 'train_steps_per_second': 0.334, 'total_flos': 8345743773696.0, 'train_loss': 1.4071091545952692, 'epoch': 3.0})"
      ]
     },
     "execution_count": 43,
     "metadata": {},
     "output_type": "execute_result"
    }
   ],
   "source": [
    "trainer.train()"
   ]
  },
  {
   "cell_type": "code",
   "execution_count": 44,
   "metadata": {},
   "outputs": [],
   "source": [
    "trainer.save_model(\"./fineTuned-distilbert-error-classifier\")"
   ]
  },
  {
   "cell_type": "code",
   "execution_count": 45,
   "metadata": {},
   "outputs": [],
   "source": [
    "from transformers import DistilBertTokenizer, DistilBertForSequenceClassification\n",
    "import torch\n",
    "import pandas as pd\n",
    "from sklearn.preprocessing import LabelEncoder\n",
    "\n",
    "model = DistilBertForSequenceClassification.from_pretrained(\"./fineTuned-distilbert-error-classifier\")\n",
    "tokenizer = DistilBertTokenizer.from_pretrained(\"distilbert-base-uncased\")\n",
    "\n",
    "# label_encoder = LabelEncoder()\n",
    "label_encoder.fit([\n",
    "\t\"UserModule - Undefined method id\",\n",
    "\t\"WorkspacePermission - Could not find agent without an ID\",\n",
    "\t\"BusinessObject - Standard error\",\n",
    "\t\"Missing configuration\",\n",
    "\t\"Mysql gone error\",\n",
    "\t\"Validation error\",\n",
    "\t\"Unknown error\"\n",
    "])  # Add your actual categories here\n",
    "\n",
    "# Help me to predict the error category\n",
    "def predict_error_category(text):\n",
    "    # Tokenize the text\n",
    "    inputs = tokenizer(text, return_tensors=\"pt\")\n",
    "\n",
    "    # Perform a forward pass of the model\n",
    "    outputs = model(**inputs)\n",
    "\n",
    "    # Get the predicted class for each example\n",
    "    predicted_class = torch.argmax(outputs.logits, dim=1)\n",
    "\n",
    "    # Convert the predicted class to the actual label\n",
    "    predicted_label = label_encoder.inverse_transform(predicted_class)\n",
    "\n",
    "    return predicted_label[0]\n",
    "\n",
    "# # Put the actual error_category in the 'error_category' column\n",
    "df['text'] = df['module type'] + '-' + df['Error']\n",
    "df['error_category'] = df['error_category'].fillna(df['text'].apply(predict_error_category))\n"
   ]
  },
  {
   "cell_type": "code",
   "execution_count": 46,
   "metadata": {},
   "outputs": [
    {
     "data": {
      "text/html": [
       "<div>\n",
       "<style scoped>\n",
       "    .dataframe tbody tr th:only-of-type {\n",
       "        vertical-align: middle;\n",
       "    }\n",
       "\n",
       "    .dataframe tbody tr th {\n",
       "        vertical-align: top;\n",
       "    }\n",
       "\n",
       "    .dataframe thead th {\n",
       "        text-align: right;\n",
       "    }\n",
       "</style>\n",
       "<table border=\"1\" class=\"dataframe\">\n",
       "  <thead>\n",
       "    <tr style=\"text-align: right;\">\n",
       "      <th></th>\n",
       "      <th>account id</th>\n",
       "      <th>module type</th>\n",
       "      <th>Error</th>\n",
       "      <th>error_category</th>\n",
       "      <th>text</th>\n",
       "    </tr>\n",
       "  </thead>\n",
       "  <tbody>\n",
       "    <tr>\n",
       "      <th>0</th>\n",
       "      <td>708664</td>\n",
       "      <td>WorkspacePermissionConfiguration</td>\n",
       "      <td>\"{\\\"import_exceptions\\\":\\\"Import config set it...</td>\n",
       "      <td>WorkspacePermission - Could not find agent wit...</td>\n",
       "      <td>WorkspacePermissionConfiguration-\"{\\\"import_ex...</td>\n",
       "    </tr>\n",
       "    <tr>\n",
       "      <th>1</th>\n",
       "      <td>708687</td>\n",
       "      <td>WorkspacePermissionConfiguration</td>\n",
       "      <td>\"{\\\"import_exceptions\\\":\\\"Import config set it...</td>\n",
       "      <td>WorkspacePermission - Could not find agent wit...</td>\n",
       "      <td>WorkspacePermissionConfiguration-\"{\\\"import_ex...</td>\n",
       "    </tr>\n",
       "    <tr>\n",
       "      <th>2</th>\n",
       "      <td>708774</td>\n",
       "      <td>WorkspacePermissionConfiguration</td>\n",
       "      <td>\"{\\\"import_exceptions\\\":\\\"Import config set it...</td>\n",
       "      <td>WorkspacePermission - Could not find agent wit...</td>\n",
       "      <td>WorkspacePermissionConfiguration-\"{\\\"import_ex...</td>\n",
       "    </tr>\n",
       "    <tr>\n",
       "      <th>3</th>\n",
       "      <td>708664</td>\n",
       "      <td>UserConfiguration</td>\n",
       "      <td>\"{\\\"import_exceptions\\\":\\\"Import config set it...</td>\n",
       "      <td>UserModule - Undefined method id</td>\n",
       "      <td>UserConfiguration-\"{\\\"import_exceptions\\\":\\\"Im...</td>\n",
       "    </tr>\n",
       "    <tr>\n",
       "      <th>4</th>\n",
       "      <td>708774</td>\n",
       "      <td>WorkspacePermissionConfiguration</td>\n",
       "      <td>\"{\\\"import_exceptions\\\":\\\"Import config set it...</td>\n",
       "      <td>WorkspacePermission - Could not find agent wit...</td>\n",
       "      <td>WorkspacePermissionConfiguration-\"{\\\"import_ex...</td>\n",
       "    </tr>\n",
       "  </tbody>\n",
       "</table>\n",
       "</div>"
      ],
      "text/plain": [
       "   account id                       module type  \\\n",
       "0      708664  WorkspacePermissionConfiguration   \n",
       "1      708687  WorkspacePermissionConfiguration   \n",
       "2      708774  WorkspacePermissionConfiguration   \n",
       "3      708664                 UserConfiguration   \n",
       "4      708774  WorkspacePermissionConfiguration   \n",
       "\n",
       "                                               Error  \\\n",
       "0  \"{\\\"import_exceptions\\\":\\\"Import config set it...   \n",
       "1  \"{\\\"import_exceptions\\\":\\\"Import config set it...   \n",
       "2  \"{\\\"import_exceptions\\\":\\\"Import config set it...   \n",
       "3  \"{\\\"import_exceptions\\\":\\\"Import config set it...   \n",
       "4  \"{\\\"import_exceptions\\\":\\\"Import config set it...   \n",
       "\n",
       "                                      error_category  \\\n",
       "0  WorkspacePermission - Could not find agent wit...   \n",
       "1  WorkspacePermission - Could not find agent wit...   \n",
       "2  WorkspacePermission - Could not find agent wit...   \n",
       "3                   UserModule - Undefined method id   \n",
       "4  WorkspacePermission - Could not find agent wit...   \n",
       "\n",
       "                                                text  \n",
       "0  WorkspacePermissionConfiguration-\"{\\\"import_ex...  \n",
       "1  WorkspacePermissionConfiguration-\"{\\\"import_ex...  \n",
       "2  WorkspacePermissionConfiguration-\"{\\\"import_ex...  \n",
       "3  UserConfiguration-\"{\\\"import_exceptions\\\":\\\"Im...  \n",
       "4  WorkspacePermissionConfiguration-\"{\\\"import_ex...  "
      ]
     },
     "execution_count": 46,
     "metadata": {},
     "output_type": "execute_result"
    }
   ],
   "source": [
    "df.head()"
   ]
  },
  {
   "cell_type": "code",
   "execution_count": 47,
   "metadata": {},
   "outputs": [],
   "source": [
    "df.to_excel('predicted_error_category.xlsx', index=False)"
   ]
  },
  {
   "cell_type": "code",
   "execution_count": null,
   "metadata": {},
   "outputs": [],
   "source": []
  }
 ],
 "metadata": {
  "kernelspec": {
   "display_name": "Python 3 (ipykernel)",
   "language": "python",
   "name": "python3"
  },
  "language_info": {
   "codemirror_mode": {
    "name": "ipython",
    "version": 3
   },
   "file_extension": ".py",
   "mimetype": "text/x-python",
   "name": "python",
   "nbconvert_exporter": "python",
   "pygments_lexer": "ipython3",
   "version": "3.12.4"
  }
 },
 "nbformat": 4,
 "nbformat_minor": 2
}
