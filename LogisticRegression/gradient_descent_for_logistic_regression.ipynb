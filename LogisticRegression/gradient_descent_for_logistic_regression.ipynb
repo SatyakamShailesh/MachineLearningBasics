{
 "cells": [
  {
   "cell_type": "code",
   "execution_count": 50,
   "metadata": {},
   "outputs": [],
   "source": [
    "import numpy as np\n",
    "import matplotlib.pyplot as plt\n",
    "import math"
   ]
  },
  {
   "cell_type": "markdown",
   "metadata": {},
   "source": [
    "### DataSet"
   ]
  },
  {
   "cell_type": "code",
   "execution_count": 51,
   "metadata": {},
   "outputs": [],
   "source": [
    "X_train = np.array([[0.5, 1.5], [1,1], [1.5, 0.5], [3, 0.5], [2, 2], [1, 2.5]])\n",
    "y_train = np.array([0, 0, 0, 1, 1, 1])"
   ]
  },
  {
   "cell_type": "code",
   "execution_count": 58,
   "metadata": {},
   "outputs": [
    {
     "data": {
      "image/png": "[encoded data removed]",
      "text/plain": [
       "<Figure size 500x400 with 1 Axes>"
      ]
     },
     "metadata": {},
     "output_type": "display_data"
    }
   ],
   "source": [
    "def plot_logistic_data(X, y, ax):\n",
    "    ax.scatter(X[y==0, 0], X[y==0, 1], c='r',label='y=0', marker='x')\n",
    "    ax.scatter(X[y==1, 0], X[y==1, 1], c='b',label='y=1', marker='o')\n",
    "    ax.set_xlim(0, 4)\n",
    "    ax.set_ylim(0, 4)\n",
    "    ax.set_xlabel('x1')\n",
    "    ax.set_ylabel('x2')\n",
    "    ax.legend()\n",
    "    #plt.show()\n",
    "\n",
    "fig, ax = plt.subplots(1, 1, figsize=(5,4))\n",
    "plot_logistic_data(X_train, y_train, ax)\n",
    "plt.show()\n"
   ]
  },
  {
   "cell_type": "markdown",
   "metadata": {},
   "source": [
    "##### Calculating Gradient of the logistic function aka getting the value of the derivative used in gradient descent."
   ]
  },
  {
   "cell_type": "code",
   "execution_count": 53,
   "metadata": {},
   "outputs": [],
   "source": [
    "def sigmoid(z):\n",
    "    \"\"\"\n",
    "    Compute the sigmoid of z\n",
    "\n",
    "    Parameters\n",
    "    -----------\n",
    "    z : array-like\n",
    "        A scalar or numpy array of any size\n",
    "    \n",
    "    Returns\n",
    "    --------\n",
    "\n",
    "    g : array-like\n",
    "        The sigmoid of z\n",
    "    \"\"\"\n",
    "    z = np.clip(z, -500, 500)\n",
    "    g = 1 / (1 + np.exp(-z))\n",
    "    return g\n",
    "\n",
    "def compute_gradient_logistic(X, Y, W, b):\n",
    "    \"\"\"\n",
    "    Compute the gradient of the loss function with respect to W and b\n",
    "\n",
    "    Parameters\n",
    "    -----------\n",
    "    X : array-like\n",
    "        A numpy array of shape (m, n) where m is the number of samples and n is the number of features\n",
    "    Y : array-like\n",
    "        A numpy array of shape (m,) where m is the number of samples\n",
    "    W : array-like\n",
    "        A numpy array of shape (n,) where n is the number of features\n",
    "    b : float\n",
    "        A scalar representing the bias term\n",
    "\n",
    "    Returns\n",
    "    --------\n",
    "    dj_dw : array-like\n",
    "        A numpy array of shape (n,) representing the gradient of the loss function with respect to W. \n",
    "        Here n is the number of features.\n",
    "    db : float\n",
    "        A scalar representing the gradient of the loss function with respect to b\n",
    "    \"\"\"\n",
    "    m,n = X.shape\n",
    "    dj_dw = np.zeros(n)\n",
    "    dj_db = 0\n",
    "    for i in range(m):\n",
    "        f_wb_i = sigmoid(np.dot(W, X[i]) + b)\n",
    "        error = f_wb_i - Y[i]\n",
    "        for j in range(n):\n",
    "            dj_dw[j] += error * X[i][j]\n",
    "        dj_db += error\n",
    "    dj_dw = 1/m * dj_dw\n",
    "    dj_db = 1/m * dj_db\n",
    "    \n",
    "    return dj_dw, dj_db"
   ]
  },
  {
   "cell_type": "code",
   "execution_count": 54,
   "metadata": {},
   "outputs": [
    {
     "name": "stdout",
     "output_type": "stream",
     "text": [
      "dj_db: [0.5 0.5]\n",
      "dj_dw: 0.49861806546328574\n"
     ]
    }
   ],
   "source": [
    "# Compute the gradient of the loss function with respect to W and b\n",
    "X_tmp = np.array([[0.5, 1.5], [1,1], [1.5, 0.5], [3, 0.5], [2, 2], [1, 2.5]])\n",
    "y_tmp = np.array([0, 0, 0, 1, 1, 1])\n",
    "w_tmp = np.array([2.,3.])\n",
    "b_tmp = 1.\n",
    "dj_db_tmp, dj_dw_tmp = compute_gradient_logistic(X_tmp, y_tmp, w_tmp, b_tmp)\n",
    "print(f\"dj_db: {dj_db_tmp}\" )\n",
    "print(f\"dj_dw: {dj_dw_tmp.tolist()}\" )"
   ]
  },
  {
   "cell_type": "markdown",
   "metadata": {},
   "source": [
    "#### Now that we have the gradient, lets calculate the gradient descent of the logistic function."
   ]
  },
  {
   "cell_type": "code",
   "execution_count": 55,
   "metadata": {},
   "outputs": [
    {
     "name": "stdout",
     "output_type": "stream",
     "text": [
      "Iteration    0: W =  [0.03 0.02] and b = 0.0\n",
      "Iteration  100: W =  [0.6  0.35] and b = -0.9623116161256773\n",
      "Iteration  200: W =  [0.91 0.64] and b = -1.840345297485483\n",
      "Iteration  300: W =  [1.16 0.9 ] and b = -2.593047015876586\n",
      "Iteration  400: W =  [1.38 1.13] and b = -3.2458900988917208\n",
      "Iteration  500: W =  [1.58 1.33] and b = -3.8187024477420515\n",
      "Iteration  600: W =  [1.75 1.51] and b = -4.326779852366586\n",
      "Iteration  700: W =  [1.91 1.67] and b = -4.781891794042321\n",
      "Iteration  800: W =  [2.05 1.82] and b = -5.193141755067223\n",
      "Iteration  900: W =  [2.19 1.95] and b = -5.567637899903494\n",
      "Iteration 1000: W =  [2.31 2.08] and b = -5.9109933019066005\n",
      "Iteration 1100: W =  [2.42 2.19] and b = -6.227692860070964\n",
      "Iteration 1200: W =  [2.52 2.3 ] and b = -6.521361736477952\n",
      "Iteration 1300: W =  [2.62 2.39] and b = -6.794962657616278\n",
      "Iteration 1400: W =  [2.71 2.49] and b = -7.050942136612444\n",
      "Iteration 1500: W =  [2.79 2.57] and b = -7.291339931082341\n",
      "Iteration 1600: W =  [2.87 2.65] and b = -7.5178718615848785\n",
      "Iteration 1700: W =  [2.95 2.73] and b = -7.731993154322624\n",
      "Iteration 1800: W =  [3.02 2.8 ] and b = -7.934947402959353\n",
      "Iteration 1900: W =  [3.09 2.87] and b = -8.127804801504416\n",
      "Iteration 2000: W =  [3.16 2.94] and b = -8.31149228999275\n",
      "Iteration 2100: W =  [3.22 3.  ] and b = -8.486817542627088\n",
      "Iteration 2200: W =  [3.28 3.06] and b = -8.654488221947851\n",
      "Iteration 2300: W =  [3.33 3.12] and b = -8.815127559584594\n",
      "Iteration 2400: W =  [3.39 3.18] and b = -8.969287061291427\n",
      "Iteration 2500: W =  [3.44 3.23] and b = -9.117456941828022\n",
      "Iteration 2600: W =  [3.49 3.28] and b = -9.260074753476383\n",
      "Iteration 2700: W =  [3.54 3.33] and b = -9.397532566420145\n",
      "Iteration 2800: W =  [3.59 3.38] and b = -9.53018297991674\n",
      "Iteration 2900: W =  [3.64 3.43] and b = -9.658344183120418\n",
      "Iteration 3000: W =  [3.68 3.47] and b = -9.782304238535811\n",
      "Iteration 3100: W =  [3.72 3.51] and b = -9.902324725770681\n",
      "Iteration 3200: W =  [3.77 3.56] and b = -10.01864385587642\n",
      "Iteration 3300: W =  [3.81 3.6 ] and b = -10.131479145184876\n",
      "Iteration 3400: W =  [3.85 3.64] and b = -10.241029720741436\n",
      "Iteration 3500: W =  [3.88 3.68] and b = -10.347478316135353\n",
      "Iteration 3600: W =  [3.92 3.71] and b = -10.450993005940491\n",
      "Iteration 3700: W =  [3.96 3.75] and b = -10.551728718502163\n",
      "Iteration 3800: W =  [3.99 3.78] and b = -10.649828559978381\n",
      "Iteration 3900: W =  [4.03 3.82] and b = -10.745424977017619\n",
      "Iteration 4000: W =  [4.06 3.85] and b = -10.838640780957705\n",
      "Iteration 4100: W =  [4.09 3.89] and b = -10.929590052753856\n",
      "Iteration 4200: W =  [4.12 3.92] and b = -11.018378944823144\n",
      "Iteration 4300: W =  [4.16 3.95] and b = -11.105106393500137\n",
      "Iteration 4400: W =  [4.19 3.98] and b = -11.189864753732973\n",
      "Iteration 4500: W =  [4.22 4.01] and b = -11.27274036593067\n",
      "Iteration 4600: W =  [4.25 4.04] and b = -11.353814063436364\n",
      "Iteration 4700: W =  [4.27 4.07] and b = -11.433161627897583\n",
      "Iteration 4800: W =  [4.3 4.1] and b = -11.51085419879119\n",
      "Iteration 4900: W =  [4.33 4.12] and b = -11.586958642505119\n",
      "Iteration 5000: W =  [4.36 4.15] and b = -11.66153788565381\n",
      "Iteration 5100: W =  [4.38 4.18] and b = -11.73465121668815\n",
      "Iteration 5200: W =  [4.41 4.2 ] and b = -11.806354559334602\n",
      "Iteration 5300: W =  [4.43 4.23] and b = -11.876700720949248\n",
      "Iteration 5400: W =  [4.46 4.25] and b = -11.945739618486341\n",
      "Iteration 5500: W =  [4.48 4.28] and b = -12.013518484449426\n",
      "Iteration 5600: W =  [4.51 4.3 ] and b = -12.080082054907235\n",
      "Iteration 5700: W =  [4.53 4.33] and b = -12.145472741408645\n",
      "Iteration 5800: W =  [4.55 4.35] and b = -12.20973078841697\n",
      "Iteration 5900: W =  [4.58 4.37] and b = -12.272894417697307\n",
      "Iteration 6000: W =  [4.6  4.39] and b = -12.334999960928219\n",
      "Iteration 6100: W =  [4.62 4.42] and b = -12.396081981667493\n",
      "Iteration 6200: W =  [4.64 4.44] and b = -12.45617338767748\n",
      "Iteration 6300: W =  [4.66 4.46] and b = -12.515305534506906\n",
      "Iteration 6400: W =  [4.69 4.48] and b = -12.57350832113059\n",
      "Iteration 6500: W =  [4.71 4.5 ] and b = -12.630810278364038\n",
      "Iteration 6600: W =  [4.73 4.52] and b = -12.687238650696127\n",
      "Iteration 6700: W =  [4.75 4.54] and b = -12.742819472117128\n",
      "Iteration 6800: W =  [4.77 4.56] and b = -12.797577636461487\n",
      "Iteration 6900: W =  [4.79 4.58] and b = -12.851536962733109\n",
      "Iteration 7000: W =  [4.8 4.6] and b = -12.904720255835343\n",
      "Iteration 7100: W =  [4.82 4.62] and b = -12.957149363086806\n",
      "Iteration 7200: W =  [4.84 4.64] and b = -13.008845226868251\n",
      "Iteration 7300: W =  [4.86 4.66] and b = -13.05982793371295\n",
      "Iteration 7400: W =  [4.88 4.68] and b = -13.110116760124248\n",
      "Iteration 7500: W =  [4.9  4.69] and b = -13.159730215377849\n",
      "Iteration 7600: W =  [4.91 4.71] and b = -13.208686081543291\n",
      "Iteration 7700: W =  [4.93 4.73] and b = -13.257001450937926\n",
      "Iteration 7800: W =  [4.95 4.75] and b = -13.304692761207967\n",
      "Iteration 7900: W =  [4.97 4.76] and b = -13.35177582821445\n",
      "Iteration 8000: W =  [4.98 4.78] and b = -13.398265876886166\n",
      "Iteration 8100: W =  [5.  4.8] and b = -13.444177570188351\n",
      "Iteration 8200: W =  [5.02 4.81] and b = -13.489525036343178\n",
      "Iteration 8300: W =  [5.03 4.83] and b = -13.53432189442665\n",
      "Iteration 8400: W =  [5.05 4.84] and b = -13.578581278456678\n",
      "Iteration 8500: W =  [5.06 4.86] and b = -13.622315860077277\n",
      "Iteration 8600: W =  [5.08 4.88] and b = -13.665537869936005\n",
      "Iteration 8700: W =  [5.1  4.89] and b = -13.708259117843419\n",
      "Iteration 8800: W =  [5.11 4.91] and b = -13.750491011796898\n",
      "Iteration 8900: W =  [5.13 4.92] and b = -13.792244575944483\n",
      "Iteration 9000: W =  [5.14 4.94] and b = -13.833530467558626\n",
      "Iteration 9100: W =  [5.16 4.95] and b = -13.874358993084558\n",
      "Iteration 9200: W =  [5.17 4.97] and b = -13.914740123322916\n",
      "Iteration 9300: W =  [5.18 4.98] and b = -13.954683507802017\n",
      "Iteration 9400: W =  [5.2 5. ] and b = -13.99419848839104\n",
      "Iteration 9500: W =  [5.21 5.01] and b = -14.033294112201498\n",
      "Iteration 9600: W =  [5.23 5.02] and b = -14.071979143821249\n",
      "Iteration 9700: W =  [5.24 5.04] and b = -14.110262076921815\n",
      "Iteration 9800: W =  [5.25 5.05] and b = -14.148151145277184\n",
      "Iteration 9900: W =  [5.27 5.06] and b = -14.185654333229442\n"
     ]
    }
   ],
   "source": [
    "def gradient_descent(X_train, Y, W, b, num_iters, alpha):\n",
    "    \"\"\"\n",
    "    Perform gradient descent to learn the parameters W and b\n",
    "\n",
    "    Parameters\n",
    "    -----------\n",
    "    X_train : array-like\n",
    "        A numpy array of shape (m, n) where m is the number of samples and n is the number of features\n",
    "    Y : array-like\n",
    "        A numpy array of shape (m,) where m is the number of samples\n",
    "    W : array-like\n",
    "        A numpy array of shape (n,) where n is the number of features\n",
    "    b : float\n",
    "        A scalar representing the bias term\n",
    "    num_iters : int\n",
    "        The number of iterations to perform gradient descent\n",
    "    alpha : float\n",
    "        The learning rate\n",
    "\n",
    "    Returns\n",
    "    --------\n",
    "    W : array-like\n",
    "        A numpy array of shape (n,) representing the learned parameters W. \n",
    "        Here n is the number of features.\n",
    "    b : float\n",
    "        A scalar representing the learned bias term\n",
    "    \"\"\"\n",
    "\n",
    "    # definition of equality\n",
    "    epsilon = 1e-4\n",
    "\n",
    "    m, n = X_train.shape\n",
    "    \n",
    "    for i in range(num_iters):\n",
    "        # compute the gradient\n",
    "        dj_dw, dj_db = compute_gradient_logistic(X_train, Y, W, b)\n",
    "\n",
    "        # Store the parameters in a temporary variable\n",
    "        new_W = W - alpha * dj_dw\n",
    "        new_b = b - alpha * dj_db\n",
    "        found = 0\n",
    "        for j in range(n):\n",
    "            if abs(new_W[j] - W[j]) < epsilon:\n",
    "                found = found + 1\n",
    "        if abs(new_b - b) < epsilon:\n",
    "            found = found + 1\n",
    "        if found == n+1:\n",
    "            print(\"Converged after\", i, \"iterations\")\n",
    "            break\n",
    "\n",
    "        # update the parameters\n",
    "        W = new_W\n",
    "        b = new_b\n",
    "\n",
    "        if i% math.ceil(num_iters / 100) == 0:\n",
    "            print(f\"Iteration {i:4d}: W =  {W} and b = {b}\")\n",
    "    return W, b\n",
    "\n",
    "\n",
    "# initial values for W and b\n",
    "w_tmp  = np.zeros_like(X_train[0])\n",
    "b_tmp  = 0.\n",
    "\n",
    "# learning rate\n",
    "alpha = 1e-1\n",
    "\n",
    "# number of iterations\n",
    "num_iters = 10000\n",
    "\n",
    "W_out, b_out = gradient_descent(X_train, y_train, w_tmp, b_tmp, num_iters, alpha)\n"
   ]
  },
  {
   "cell_type": "markdown",
   "metadata": {},
   "source": [
    "##### Test the output by plotting the decision boundary"
   ]
  },
  {
   "cell_type": "code",
   "execution_count": 59,
   "metadata": {},
   "outputs": [
    {
     "data": {
      "image/png": "[encoded data removed]",
      "text/plain": [
       "<Figure size 500x400 with 1 Axes>"
      ]
     },
     "metadata": {},
     "output_type": "display_data"
    }
   ],
   "source": [
    "fig, ax = plt.subplots(1, 1, figsize=(5,4))\n",
    "\n",
    "# plot the data\n",
    "plot_logistic_data(X_train, y_train, ax)\n",
    "\n",
    "# plot the decision boundary\n",
    "x0 = -b_out/W_out[0]\n",
    "x1 = -b_out/W_out[1]\n",
    "ax.plot([0,x0],[x1,0], lw=1)\n",
    "plt.show()\n"
   ]
  },
  {
   "cell_type": "code",
   "execution_count": null,
   "metadata": {},
   "outputs": [],
   "source": []
  }
 ],
 "metadata": {
  "kernelspec": {
   "display_name": "Python 3 (ipykernel)",
   "language": "python",
   "name": "python3"
  },
  "language_info": {
   "codemirror_mode": {
    "name": "ipython",
    "version": 3
   },
   "file_extension": ".py",
   "mimetype": "text/x-python",
   "name": "python",
   "nbconvert_exporter": "python",
   "pygments_lexer": "ipython3",
   "version": "3.12.4"
  }
 },
 "nbformat": 4,
 "nbformat_minor": 2
}
